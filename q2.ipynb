{
 "cells": [
  {
   "cell_type": "markdown",
   "id": "501a6122-0b1c-4778-b56b-6eeed65ea605",
   "metadata": {},
   "source": [
    "## Exercício 2"
   ]
  },
  {
   "cell_type": "code",
   "execution_count": 1,
   "id": "972159a5-572d-4195-8fb1-cca926bce72d",
   "metadata": {},
   "outputs": [],
   "source": [
    "import requests\n",
    "from bs4 import BeautifulSoup\n",
    "from selenium import webdriver\n",
    "from selenium.webdriver.edge.options import Options\n",
    "from time import sleep\n",
    "import urllib"
   ]
  },
  {
   "cell_type": "code",
   "execution_count": 2,
   "id": "7959b188-6411-480c-972c-3087e02297a3",
   "metadata": {},
   "outputs": [],
   "source": [
    "options = Options()\n",
    "options.add_argument('--headless') #pra não mostrar o navegador\n",
    "#options.add_argument('window-size=1500,1000')\n",
    "\n",
    "navegador = webdriver.Edge(options=options)\n",
    "navegador.get('https://www.ccee.org.br/en/web/guest/acervo-ccee')\n",
    "sleep(3)"
   ]
  },
  {
   "cell_type": "code",
   "execution_count": 3,
   "id": "4abe07c2-2a60-4fb3-b2f5-7213edb99399",
   "metadata": {},
   "outputs": [
    {
     "name": "stderr",
     "output_type": "stream",
     "text": [
      "C:\\Users\\thales\\AppData\\Local\\Temp\\ipykernel_23208\\3884128383.py:1: DeprecationWarning: find_element_by_xpath is deprecated. Please use find_element(by=By.XPATH, value=xpath) instead\n",
      "  aba_procurar = navegador.find_element_by_xpath('/html/body/div[1]/div[2]/section[1]/div/div[3]/div/div/div/section/div/div[2]/div/div[1]/div[1]/div[1]/div/input')\n",
      "C:\\Users\\thales\\AppData\\Local\\Temp\\ipykernel_23208\\3884128383.py:5: DeprecationWarning: find_element_by_xpath is deprecated. Please use find_element(by=By.XPATH, value=xpath) instead\n",
      "  botao_procurar = navegador.find_element_by_xpath('/html/body/div[1]/div[2]/section[1]/div/div[3]/div/div/div/section/div/div[2]/div/div[1]/div[1]/div[1]/div/span')\n",
      "C:\\Users\\thales\\AppData\\Local\\Temp\\ipykernel_23208\\3884128383.py:9: DeprecationWarning: find_element_by_xpath is deprecated. Please use find_element(by=By.XPATH, value=xpath) instead\n",
      "  botao_download = navegador.find_element_by_xpath('/html/body/div[1]/div[2]/section[1]/div/div[3]/div/div/div/section/div/div[2]/div/div[1]/div[2]/div[2]/div[2]/div/div/div[3]/a')\n"
     ]
    },
    {
     "data": {
      "text/plain": [
       "('DECOMP_04_2022.zip', <http.client.HTTPMessage at 0x1c4963242e0>)"
      ]
     },
     "execution_count": 3,
     "metadata": {},
     "output_type": "execute_result"
    }
   ],
   "source": [
    "aba_procurar = navegador.find_element_by_xpath('/html/body/div[1]/div[2]/section[1]/div/div[3]/div/div/div/section/div/div[2]/div/div[1]/div[1]/div[1]/div/input')\n",
    "aba_procurar.click()  \n",
    "aba_procurar.send_keys('DECOMP 04/2022')\n",
    "\n",
    "botao_procurar = navegador.find_element_by_xpath('/html/body/div[1]/div[2]/section[1]/div/div[3]/div/div/div/section/div/div[2]/div/div[1]/div[1]/div[1]/div/span')\n",
    "botao_procurar.click() \n",
    "sleep(3)\n",
    "\n",
    "botao_download = navegador.find_element_by_xpath('/html/body/div[1]/div[2]/section[1]/div/div[3]/div/div/div/section/div/div[2]/div/div[1]/div[2]/div[2]/div[2]/div/div/div[3]/a')\n",
    "url = botao_download.get_attribute('href')\n",
    "urllib.request.urlretrieve(url, 'DECOMP_04_2022.zip')"
   ]
  },
  {
   "cell_type": "code",
   "execution_count": null,
   "id": "64788ca2-b9ac-4462-8809-8631ffd90604",
   "metadata": {},
   "outputs": [],
   "source": []
  }
 ],
 "metadata": {
  "kernelspec": {
   "display_name": "Python 3 (ipykernel)",
   "language": "python",
   "name": "python3"
  },
  "language_info": {
   "codemirror_mode": {
    "name": "ipython",
    "version": 3
   },
   "file_extension": ".py",
   "mimetype": "text/x-python",
   "name": "python",
   "nbconvert_exporter": "python",
   "pygments_lexer": "ipython3",
   "version": "3.8.10"
  }
 },
 "nbformat": 4,
 "nbformat_minor": 5
}
