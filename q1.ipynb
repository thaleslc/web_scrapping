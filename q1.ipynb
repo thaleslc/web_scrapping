{
 "cells": [
  {
   "cell_type": "markdown",
   "id": "a92b02b7-26f3-4e68-add6-15f77670fcc5",
   "metadata": {
    "tags": []
   },
   "source": [
    "## Exercício 1"
   ]
  },
  {
   "cell_type": "code",
   "execution_count": 1,
   "id": "f4504635-8fe3-4207-9fec-ebc0dcc24bcd",
   "metadata": {},
   "outputs": [],
   "source": [
    "import requests\n",
    "from bs4 import BeautifulSoup\n",
    "from selenium import webdriver\n",
    "from selenium.webdriver.edge.options import Options\n",
    "from time import sleep\n",
    "import urllib\n"
   ]
  },
  {
   "cell_type": "code",
   "execution_count": 2,
   "id": "1a81131f-3800-41a7-9a85-b00565d683e4",
   "metadata": {},
   "outputs": [],
   "source": [
    "options = Options()\n",
    "options.add_argument('--headless') #pra não mostrar o navegador\n",
    "#options.add_argument('window-size=1500,1000')\n",
    "\n",
    "navegador = webdriver.Edge(options=options)\n",
    "navegador.get('http://clima1.cptec.inpe.br/monitoramentobrasil/pt')\n",
    "sleep(3)"
   ]
  },
  {
   "cell_type": "code",
   "execution_count": 3,
   "id": "9c338be6-e3f9-435a-913f-f9f8e91ff9b9",
   "metadata": {},
   "outputs": [
    {
     "name": "stderr",
     "output_type": "stream",
     "text": [
      "C:\\Users\\thales\\AppData\\Local\\Temp\\ipykernel_6616\\1459149860.py:1: DeprecationWarning: find_element_by_xpath is deprecated. Please use find_element(by=By.XPATH, value=xpath) instead\n",
      "  campo_mensal = navegador.find_element_by_xpath('/html/body/div[2]/div/div[2]/div[4]/form[1]/select[1]/option[2]')\n",
      "C:\\Users\\thales\\AppData\\Local\\Temp\\ipykernel_6616\\1459149860.py:7: DeprecationWarning: find_element_by_xpath is deprecated. Please use find_element(by=By.XPATH, value=xpath) instead\n",
      "  botao_mes = navegador.find_element_by_xpath(xpath)\n",
      "C:\\Users\\thales\\AppData\\Local\\Temp\\ipykernel_6616\\1459149860.py:9: DeprecationWarning: find_element_by_xpath is deprecated. Please use find_element(by=By.XPATH, value=xpath) instead\n",
      "  img = navegador.find_element_by_xpath('/html/body/div[2]/div/div[1]/div[3]/span/img')\n"
     ]
    }
   ],
   "source": [
    "campo_mensal = navegador.find_element_by_xpath('/html/body/div[2]/div/div[2]/div[4]/form[1]/select[1]/option[2]')\n",
    "campo_mensal.click()\n",
    "meses = ['1','2','3','4']\n",
    "for mes in meses:\n",
    "    sleep(3)\n",
    "    xpath = '/html/body/div[2]/div/div[2]/div[4]/form[1]/select[2]/option['+str(mes)+']'\n",
    "    botao_mes = navegador.find_element_by_xpath(xpath)\n",
    "    botao_mes.click()\n",
    "    img = navegador.find_element_by_xpath('/html/body/div[2]/div/div[1]/div[3]/span/img')\n",
    "    url = img.get_attribute('src')\n",
    "    urllib.request.urlretrieve(url, 'precip_mes'+str(mes)+'.png')\n"
   ]
  },
  {
   "cell_type": "code",
   "execution_count": null,
   "id": "e88c9d5d-c79c-47db-af63-d3f69f359638",
   "metadata": {},
   "outputs": [],
   "source": []
  }
 ],
 "metadata": {
  "kernelspec": {
   "display_name": "Python 3 (ipykernel)",
   "language": "python",
   "name": "python3"
  },
  "language_info": {
   "codemirror_mode": {
    "name": "ipython",
    "version": 3
   },
   "file_extension": ".py",
   "mimetype": "text/x-python",
   "name": "python",
   "nbconvert_exporter": "python",
   "pygments_lexer": "ipython3",
   "version": "3.8.10"
  }
 },
 "nbformat": 4,
 "nbformat_minor": 5
}
