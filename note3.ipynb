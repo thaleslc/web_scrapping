{
 "cells": [
  {
   "cell_type": "markdown",
   "id": "505f9959-9921-4a5e-94e9-4868f4c4fcf9",
   "metadata": {},
   "source": [
    "## Extraindo dados do airbnb com seleium e beautifulsoup"
   ]
  },
  {
   "cell_type": "code",
   "execution_count": 29,
   "id": "ce04fc9d-8dc6-43c7-ab23-212f29b8d3a8",
   "metadata": {},
   "outputs": [],
   "source": [
    "import requests\n",
    "from bs4 import BeautifulSoup\n",
    "from selenium import webdriver\n",
    "from selenium.webdriver.edge.options import Options\n",
    "from time import sleep"
   ]
  },
  {
   "cell_type": "code",
   "execution_count": 30,
   "id": "19193f8a-4777-46af-b4e7-763baa67bee5",
   "metadata": {},
   "outputs": [],
   "source": [
    "options = Options()\n",
    "#options.add_argument('--headless') #pra não mostrar o navegador\n",
    "options.add_argument('window-size=1500,1000')\n",
    "navegador = webdriver.Edge(options=options)\n",
    "navegador.get('https://www.airbnb.com.br/')\n",
    "sleep(3)"
   ]
  },
  {
   "cell_type": "code",
   "execution_count": 31,
   "id": "9417b1e4-6ff6-45c8-87a4-aebe49e0ae78",
   "metadata": {},
   "outputs": [
    {
     "name": "stderr",
     "output_type": "stream",
     "text": [
      "C:\\Users\\thales\\AppData\\Local\\Temp\\ipykernel_8436\\1838692970.py:1: DeprecationWarning: find_element_by_xpath is deprecated. Please use find_element(by=By.XPATH, value=xpath) instead\n",
      "  button_stay = navegador.find_element_by_xpath('/html/body/div[5]/div/div/div[1]/div/div/div[3]/section/div[2]/div[2]/button')\n"
     ]
    }
   ],
   "source": [
    "button_stay = navegador.find_element_by_xpath('/html/body/div[5]/div/div/div[1]/div/div/div[3]/section/div[2]/div[2]/button')\n",
    "button_stay.click()\n",
    "                                              "
   ]
  },
  {
   "cell_type": "code",
   "execution_count": 19,
   "id": "74e1affc-801a-4ab3-9b3b-6570398fb940",
   "metadata": {},
   "outputs": [
    {
     "name": "stderr",
     "output_type": "stream",
     "text": [
      "C:\\Users\\thales\\AppData\\Local\\Temp\\ipykernel_8436\\1036646834.py:1: DeprecationWarning: find_element_by_xpath is deprecated. Please use find_element(by=By.XPATH, value=xpath) instead\n",
      "  input_place = navegador.find_element_by_xpath(\"//*[@id='site-content']/div[1]/div/div/div/div/div[1]/div/div/div/div[2]/div/button/div\").click()\n"
     ]
    },
    {
     "ename": "NoSuchElementException",
     "evalue": "Message: no such element: Unable to locate element: {\"method\":\"xpath\",\"selector\":\"//*[@id='site-content']/div[1]/div/div/div/div/div[1]/div/div/div/div[2]/div/button/div\"}\n  (Session info: MicrosoftEdge=101.0.1210.32)\nStacktrace:\nBacktrace:\n\tMicrosoft::Applications::Events::EventProperties::unpack [0x00007FF7F2D6CC22+24658]\n\tMicrosoft::Applications::Events::time_ticks_t::time_ticks_t [0x00007FF7F2CAD312+539986]\n\tOrdinal0 [0x00007FF7F27B0F05+659205]\n\tOrdinal0 [0x00007FF7F27EC1F1+901617]\n\tOrdinal0 [0x00007FF7F27EC403+902147]\n\tOrdinal0 [0x00007FF7F281E397+1106839]\n\tOrdinal0 [0x00007FF7F28076DF+1013471]\n\tOrdinal0 [0x00007FF7F281B9E7+1096167]\n\tOrdinal0 [0x00007FF7F28074B3+1012915]\n\tOrdinal0 [0x00007FF7F27DE440+844864]\n\tOrdinal0 [0x00007FF7F27DF848+849992]\n\tMicrosoft::Applications::Events::EventProperty::EventProperty [0x00007FF7F2A717D8+120584]\n\tMicrosoft::Applications::Events::EventProperty::EventProperty [0x00007FF7F2A5CE1E+36174]\n\tMicrosoft::Applications::Events::EventProperty::EventProperty [0x00007FF7F2A6001C+48972]\n\tMicrosoft::Applications::Events::EventProperty::to_string [0x00007FF7F28B0716+30806]\n\tMicrosoft::Applications::Events::time_ticks_t::time_ticks_t [0x00007FF7F2CB45E1+569377]\n\tMicrosoft::Applications::Events::time_ticks_t::time_ticks_t [0x00007FF7F2CB9014+588372]\n\tMicrosoft::Applications::Events::time_ticks_t::time_ticks_t [0x00007FF7F2CB916D+588717]\n\tMicrosoft::Applications::Events::time_ticks_t::time_ticks_t [0x00007FF7F2CC28FE+627518]\n\tBaseThreadInitThunk [0x00007FFF8A3A7034+20]\n\tRtlUserThreadStart [0x00007FFF8C382651+33]\n",
     "output_type": "error",
     "traceback": [
      "\u001b[1;31m---------------------------------------------------------------------------\u001b[0m",
      "\u001b[1;31mNoSuchElementException\u001b[0m                    Traceback (most recent call last)",
      "\u001b[1;32m~\\AppData\\Local\\Temp\\ipykernel_8436\\1036646834.py\u001b[0m in \u001b[0;36m<cell line: 1>\u001b[1;34m()\u001b[0m\n\u001b[1;32m----> 1\u001b[1;33m \u001b[0minput_place\u001b[0m \u001b[1;33m=\u001b[0m \u001b[0mnavegador\u001b[0m\u001b[1;33m.\u001b[0m\u001b[0mfind_element_by_xpath\u001b[0m\u001b[1;33m(\u001b[0m\u001b[1;34m\"//*[@id='site-content']/div[1]/div/div/div/div/div[1]/div/div/div/div[2]/div/button/div\"\u001b[0m\u001b[1;33m)\u001b[0m\u001b[1;33m.\u001b[0m\u001b[0mclick\u001b[0m\u001b[1;33m(\u001b[0m\u001b[1;33m)\u001b[0m\u001b[1;33m\u001b[0m\u001b[1;33m\u001b[0m\u001b[0m\n\u001b[0m\u001b[0;32m      2\u001b[0m \u001b[1;33m\u001b[0m\u001b[0m\n\u001b[0;32m      3\u001b[0m \u001b[0minput_place\u001b[0m \u001b[1;33m=\u001b[0m \u001b[0mnavegador\u001b[0m\u001b[1;33m.\u001b[0m\u001b[0mfind_element_by_xpath\u001b[0m\u001b[1;33m(\u001b[0m\u001b[1;34m\"//*[@id='GP-Explore-Autocomplete-Koan-input']\"\u001b[0m\u001b[1;33m)\u001b[0m\u001b[1;33m\u001b[0m\u001b[1;33m\u001b[0m\u001b[0m\n\u001b[0;32m      4\u001b[0m \u001b[0minput_place\u001b[0m\u001b[1;33m.\u001b[0m\u001b[0msend_keys\u001b[0m\u001b[1;33m(\u001b[0m\u001b[1;34m\"Rio de Janeiro\"\u001b[0m\u001b[1;33m)\u001b[0m\u001b[1;33m\u001b[0m\u001b[1;33m\u001b[0m\u001b[0m\n\u001b[0;32m      5\u001b[0m \u001b[0minput_place\u001b[0m\u001b[1;33m.\u001b[0m\u001b[0msubmit\u001b[0m\u001b[1;33m(\u001b[0m\u001b[1;33m)\u001b[0m\u001b[1;33m\u001b[0m\u001b[1;33m\u001b[0m\u001b[0m\n",
      "\u001b[1;32m~\\miniconda3\\envs\\ambiente\\lib\\site-packages\\selenium\\webdriver\\remote\\webdriver.py\u001b[0m in \u001b[0;36mfind_element_by_xpath\u001b[1;34m(self, xpath)\u001b[0m\n\u001b[0;32m    519\u001b[0m             \u001b[0mstacklevel\u001b[0m\u001b[1;33m=\u001b[0m\u001b[1;36m2\u001b[0m\u001b[1;33m,\u001b[0m\u001b[1;33m\u001b[0m\u001b[1;33m\u001b[0m\u001b[0m\n\u001b[0;32m    520\u001b[0m         )\n\u001b[1;32m--> 521\u001b[1;33m         \u001b[1;32mreturn\u001b[0m \u001b[0mself\u001b[0m\u001b[1;33m.\u001b[0m\u001b[0mfind_element\u001b[0m\u001b[1;33m(\u001b[0m\u001b[0mby\u001b[0m\u001b[1;33m=\u001b[0m\u001b[0mBy\u001b[0m\u001b[1;33m.\u001b[0m\u001b[0mXPATH\u001b[0m\u001b[1;33m,\u001b[0m \u001b[0mvalue\u001b[0m\u001b[1;33m=\u001b[0m\u001b[0mxpath\u001b[0m\u001b[1;33m)\u001b[0m\u001b[1;33m\u001b[0m\u001b[1;33m\u001b[0m\u001b[0m\n\u001b[0m\u001b[0;32m    522\u001b[0m \u001b[1;33m\u001b[0m\u001b[0m\n\u001b[0;32m    523\u001b[0m     \u001b[1;32mdef\u001b[0m \u001b[0mfind_elements_by_xpath\u001b[0m\u001b[1;33m(\u001b[0m\u001b[0mself\u001b[0m\u001b[1;33m,\u001b[0m \u001b[0mxpath\u001b[0m\u001b[1;33m)\u001b[0m \u001b[1;33m->\u001b[0m \u001b[0mList\u001b[0m\u001b[1;33m[\u001b[0m\u001b[0mWebElement\u001b[0m\u001b[1;33m]\u001b[0m\u001b[1;33m:\u001b[0m\u001b[1;33m\u001b[0m\u001b[1;33m\u001b[0m\u001b[0m\n",
      "\u001b[1;32m~\\miniconda3\\envs\\ambiente\\lib\\site-packages\\selenium\\webdriver\\remote\\webdriver.py\u001b[0m in \u001b[0;36mfind_element\u001b[1;34m(self, by, value)\u001b[0m\n\u001b[0;32m   1246\u001b[0m             \u001b[0mvalue\u001b[0m \u001b[1;33m=\u001b[0m \u001b[1;34m'[name=\"%s\"]'\u001b[0m \u001b[1;33m%\u001b[0m \u001b[0mvalue\u001b[0m\u001b[1;33m\u001b[0m\u001b[1;33m\u001b[0m\u001b[0m\n\u001b[0;32m   1247\u001b[0m \u001b[1;33m\u001b[0m\u001b[0m\n\u001b[1;32m-> 1248\u001b[1;33m         return self.execute(Command.FIND_ELEMENT, {\n\u001b[0m\u001b[0;32m   1249\u001b[0m             \u001b[1;34m'using'\u001b[0m\u001b[1;33m:\u001b[0m \u001b[0mby\u001b[0m\u001b[1;33m,\u001b[0m\u001b[1;33m\u001b[0m\u001b[1;33m\u001b[0m\u001b[0m\n\u001b[0;32m   1250\u001b[0m             'value': value})['value']\n",
      "\u001b[1;32m~\\miniconda3\\envs\\ambiente\\lib\\site-packages\\selenium\\webdriver\\remote\\webdriver.py\u001b[0m in \u001b[0;36mexecute\u001b[1;34m(self, driver_command, params)\u001b[0m\n\u001b[0;32m    423\u001b[0m         \u001b[0mresponse\u001b[0m \u001b[1;33m=\u001b[0m \u001b[0mself\u001b[0m\u001b[1;33m.\u001b[0m\u001b[0mcommand_executor\u001b[0m\u001b[1;33m.\u001b[0m\u001b[0mexecute\u001b[0m\u001b[1;33m(\u001b[0m\u001b[0mdriver_command\u001b[0m\u001b[1;33m,\u001b[0m \u001b[0mparams\u001b[0m\u001b[1;33m)\u001b[0m\u001b[1;33m\u001b[0m\u001b[1;33m\u001b[0m\u001b[0m\n\u001b[0;32m    424\u001b[0m         \u001b[1;32mif\u001b[0m \u001b[0mresponse\u001b[0m\u001b[1;33m:\u001b[0m\u001b[1;33m\u001b[0m\u001b[1;33m\u001b[0m\u001b[0m\n\u001b[1;32m--> 425\u001b[1;33m             \u001b[0mself\u001b[0m\u001b[1;33m.\u001b[0m\u001b[0merror_handler\u001b[0m\u001b[1;33m.\u001b[0m\u001b[0mcheck_response\u001b[0m\u001b[1;33m(\u001b[0m\u001b[0mresponse\u001b[0m\u001b[1;33m)\u001b[0m\u001b[1;33m\u001b[0m\u001b[1;33m\u001b[0m\u001b[0m\n\u001b[0m\u001b[0;32m    426\u001b[0m             response['value'] = self._unwrap_value(\n\u001b[0;32m    427\u001b[0m                 response.get('value', None))\n",
      "\u001b[1;32m~\\miniconda3\\envs\\ambiente\\lib\\site-packages\\selenium\\webdriver\\remote\\errorhandler.py\u001b[0m in \u001b[0;36mcheck_response\u001b[1;34m(self, response)\u001b[0m\n\u001b[0;32m    245\u001b[0m                 \u001b[0malert_text\u001b[0m \u001b[1;33m=\u001b[0m \u001b[0mvalue\u001b[0m\u001b[1;33m[\u001b[0m\u001b[1;34m'alert'\u001b[0m\u001b[1;33m]\u001b[0m\u001b[1;33m.\u001b[0m\u001b[0mget\u001b[0m\u001b[1;33m(\u001b[0m\u001b[1;34m'text'\u001b[0m\u001b[1;33m)\u001b[0m\u001b[1;33m\u001b[0m\u001b[1;33m\u001b[0m\u001b[0m\n\u001b[0;32m    246\u001b[0m             \u001b[1;32mraise\u001b[0m \u001b[0mexception_class\u001b[0m\u001b[1;33m(\u001b[0m\u001b[0mmessage\u001b[0m\u001b[1;33m,\u001b[0m \u001b[0mscreen\u001b[0m\u001b[1;33m,\u001b[0m \u001b[0mstacktrace\u001b[0m\u001b[1;33m,\u001b[0m \u001b[0malert_text\u001b[0m\u001b[1;33m)\u001b[0m  \u001b[1;31m# type: ignore[call-arg]  # mypy is not smart enough here\u001b[0m\u001b[1;33m\u001b[0m\u001b[1;33m\u001b[0m\u001b[0m\n\u001b[1;32m--> 247\u001b[1;33m         \u001b[1;32mraise\u001b[0m \u001b[0mexception_class\u001b[0m\u001b[1;33m(\u001b[0m\u001b[0mmessage\u001b[0m\u001b[1;33m,\u001b[0m \u001b[0mscreen\u001b[0m\u001b[1;33m,\u001b[0m \u001b[0mstacktrace\u001b[0m\u001b[1;33m)\u001b[0m\u001b[1;33m\u001b[0m\u001b[1;33m\u001b[0m\u001b[0m\n\u001b[0m\u001b[0;32m    248\u001b[0m \u001b[1;33m\u001b[0m\u001b[0m\n\u001b[0;32m    249\u001b[0m     \u001b[1;32mdef\u001b[0m \u001b[0m_value_or_default\u001b[0m\u001b[1;33m(\u001b[0m\u001b[0mself\u001b[0m\u001b[1;33m,\u001b[0m \u001b[0mobj\u001b[0m\u001b[1;33m:\u001b[0m \u001b[0mMapping\u001b[0m\u001b[1;33m[\u001b[0m\u001b[0m_KT\u001b[0m\u001b[1;33m,\u001b[0m \u001b[0m_VT\u001b[0m\u001b[1;33m]\u001b[0m\u001b[1;33m,\u001b[0m \u001b[0mkey\u001b[0m\u001b[1;33m:\u001b[0m \u001b[0m_KT\u001b[0m\u001b[1;33m,\u001b[0m \u001b[0mdefault\u001b[0m\u001b[1;33m:\u001b[0m \u001b[0m_VT\u001b[0m\u001b[1;33m)\u001b[0m \u001b[1;33m->\u001b[0m \u001b[0m_VT\u001b[0m\u001b[1;33m:\u001b[0m\u001b[1;33m\u001b[0m\u001b[1;33m\u001b[0m\u001b[0m\n",
      "\u001b[1;31mNoSuchElementException\u001b[0m: Message: no such element: Unable to locate element: {\"method\":\"xpath\",\"selector\":\"//*[@id='site-content']/div[1]/div/div/div/div/div[1]/div/div/div/div[2]/div/button/div\"}\n  (Session info: MicrosoftEdge=101.0.1210.32)\nStacktrace:\nBacktrace:\n\tMicrosoft::Applications::Events::EventProperties::unpack [0x00007FF7F2D6CC22+24658]\n\tMicrosoft::Applications::Events::time_ticks_t::time_ticks_t [0x00007FF7F2CAD312+539986]\n\tOrdinal0 [0x00007FF7F27B0F05+659205]\n\tOrdinal0 [0x00007FF7F27EC1F1+901617]\n\tOrdinal0 [0x00007FF7F27EC403+902147]\n\tOrdinal0 [0x00007FF7F281E397+1106839]\n\tOrdinal0 [0x00007FF7F28076DF+1013471]\n\tOrdinal0 [0x00007FF7F281B9E7+1096167]\n\tOrdinal0 [0x00007FF7F28074B3+1012915]\n\tOrdinal0 [0x00007FF7F27DE440+844864]\n\tOrdinal0 [0x00007FF7F27DF848+849992]\n\tMicrosoft::Applications::Events::EventProperty::EventProperty [0x00007FF7F2A717D8+120584]\n\tMicrosoft::Applications::Events::EventProperty::EventProperty [0x00007FF7F2A5CE1E+36174]\n\tMicrosoft::Applications::Events::EventProperty::EventProperty [0x00007FF7F2A6001C+48972]\n\tMicrosoft::Applications::Events::EventProperty::to_string [0x00007FF7F28B0716+30806]\n\tMicrosoft::Applications::Events::time_ticks_t::time_ticks_t [0x00007FF7F2CB45E1+569377]\n\tMicrosoft::Applications::Events::time_ticks_t::time_ticks_t [0x00007FF7F2CB9014+588372]\n\tMicrosoft::Applications::Events::time_ticks_t::time_ticks_t [0x00007FF7F2CB916D+588717]\n\tMicrosoft::Applications::Events::time_ticks_t::time_ticks_t [0x00007FF7F2CC28FE+627518]\n\tBaseThreadInitThunk [0x00007FFF8A3A7034+20]\n\tRtlUserThreadStart [0x00007FFF8C382651+33]\n"
     ]
    }
   ],
   "source": [
    "input_place = navegador.find_element_by_tag_name('input')\n",
    "input_place.send_keys('São Paulo')\n",
    "input_place.submit()"
   ]
  },
  {
   "cell_type": "code",
   "execution_count": 8,
   "id": "28ef0c79-7dd0-4c66-8156-80fcf3253de1",
   "metadata": {},
   "outputs": [],
   "source": [
    "site = BeautifulSoup(navegador.page_source, 'html.parser') # transformando o conteúdo de bytes para uma classe beatifulsoup"
   ]
  },
  {
   "cell_type": "code",
   "execution_count": null,
   "id": "92cf14e6-bb00-4f47-8e22-b7164efdc06a",
   "metadata": {},
   "outputs": [],
   "source": []
  }
 ],
 "metadata": {
  "kernelspec": {
   "display_name": "Python 3 (ipykernel)",
   "language": "python",
   "name": "python3"
  },
  "language_info": {
   "codemirror_mode": {
    "name": "ipython",
    "version": 3
   },
   "file_extension": ".py",
   "mimetype": "text/x-python",
   "name": "python",
   "nbconvert_exporter": "python",
   "pygments_lexer": "ipython3",
   "version": "3.8.10"
  }
 },
 "nbformat": 4,
 "nbformat_minor": 5
}
