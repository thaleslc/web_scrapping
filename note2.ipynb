{
 "cells": [
  {
   "cell_type": "markdown",
   "id": "5d2a27b6-7e55-4aee-a73b-d89c7bc97212",
   "metadata": {},
   "source": [
    "## Selenium, ele é tipo um navegador integrado que eu posso programar para fazer as coisas e me retornar dados"
   ]
  },
  {
   "cell_type": "code",
   "execution_count": 1,
   "id": "7a1f9c7e-b344-488e-9f2f-d7efadef8d2f",
   "metadata": {},
   "outputs": [],
   "source": [
    "import requests\n",
    "from bs4 import BeautifulSoup\n",
    "from selenium import webdriver\n",
    "from time import sleep"
   ]
  },
  {
   "cell_type": "code",
   "execution_count": 2,
   "id": "aa53c728-fee2-443c-b3d6-6aad7f4e2d9c",
   "metadata": {},
   "outputs": [],
   "source": [
    "navegador = webdriver.Edge()"
   ]
  },
  {
   "cell_type": "code",
   "execution_count": 3,
   "id": "b53cf065-0318-43cf-81f3-9a0c17ba5e82",
   "metadata": {},
   "outputs": [],
   "source": [
    "navegador.get('https://www.walissonsilva.com/blog')\n",
    "sleep(3)"
   ]
  },
  {
   "cell_type": "code",
   "execution_count": 4,
   "id": "f1b017e3-6093-4541-9c2e-00df4b2f221e",
   "metadata": {},
   "outputs": [
    {
     "name": "stdout",
     "output_type": "stream",
     "text": [
      "<selenium.webdriver.remote.webelement.WebElement (session=\"ee6d0a7af9eb22bc3c5363a2401b6a14\", element=\"d8c2669a-6f25-4088-b81d-24d33eadb833\")>\n"
     ]
    },
    {
     "name": "stderr",
     "output_type": "stream",
     "text": [
      "C:\\Users\\thales\\AppData\\Local\\Temp\\ipykernel_20088\\2432004089.py:1: DeprecationWarning: find_element_by_tag_name is deprecated. Please use find_element(by=By.TAG_NAME, value=name) instead\n",
      "  element = navegador.find_element_by_tag_name('input')\n"
     ]
    }
   ],
   "source": [
    "element = navegador.find_element_by_tag_name('input')\n",
    "print(element)\n",
    "element.send_keys('data')"
   ]
  },
  {
   "cell_type": "code",
   "execution_count": null,
   "id": "c48043a9-659c-4765-b40f-3b5ab9d5c7c0",
   "metadata": {},
   "outputs": [],
   "source": []
  },
  {
   "cell_type": "code",
   "execution_count": null,
   "id": "e1d15c62-ff69-44d4-afd6-7859c9e9f4be",
   "metadata": {},
   "outputs": [],
   "source": []
  }
 ],
 "metadata": {
  "kernelspec": {
   "display_name": "Python 3 (ipykernel)",
   "language": "python",
   "name": "python3"
  },
  "language_info": {
   "codemirror_mode": {
    "name": "ipython",
    "version": 3
   },
   "file_extension": ".py",
   "mimetype": "text/x-python",
   "name": "python",
   "nbconvert_exporter": "python",
   "pygments_lexer": "ipython3",
   "version": "3.8.10"
  }
 },
 "nbformat": 4,
 "nbformat_minor": 5
}
