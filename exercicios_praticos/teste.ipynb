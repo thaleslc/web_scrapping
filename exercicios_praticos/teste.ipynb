{
 "cells": [
  {
   "cell_type": "code",
   "execution_count": 1,
   "id": "01cf466b-3a00-42c1-ba4d-557b0d4bf8b9",
   "metadata": {},
   "outputs": [],
   "source": [
    "import requests\n",
    "from bs4 import BeautifulSoup\n",
    "from selenium import webdriver\n",
    "from selenium.webdriver.edge.options import Options\n",
    "from time import sleep\n",
    "import urllib\n",
    "from zipfile import ZipFile\n",
    "import os"
   ]
  },
  {
   "cell_type": "markdown",
   "id": "3a6512f2-c81f-421b-bf57-37e1cbca86fc",
   "metadata": {},
   "source": [
    "# Videos interessantes para aprender: <br>https://www.youtube.com/watch?v=WekFmviiNO4&list=PLg3ZPsW_sghSkRacynznQeEs-vminyTQk&index=8"
   ]
  },
  {
   "cell_type": "markdown",
   "id": "209c054a-46e0-45ef-ba18-b0ec06532aa8",
   "metadata": {},
   "source": [
    "# Exercício 1\n"
   ]
  },
  {
   "cell_type": "markdown",
   "id": "ab25f38f-20f8-4bfb-a7f4-5b2ec46654de",
   "metadata": {},
   "source": [
    "### 1.1 - Abrindo a página"
   ]
  },
  {
   "cell_type": "code",
   "execution_count": 2,
   "id": "627a413c-79d1-4bf2-bd0d-ea7c3f260eb6",
   "metadata": {},
   "outputs": [],
   "source": [
    "options = Options()\n",
    "options.add_argument('--headless') #pra não mostrar o navegador\n",
    "#options.add_argument('window-size=1500,1000')\n",
    "\n",
    "navegador = webdriver.Edge(options=options)\n",
    "navegador.get('http://clima1.cptec.inpe.br/monitoramentobrasil/pt')\n",
    "sleep(3)"
   ]
  },
  {
   "cell_type": "markdown",
   "id": "8edbacbf-227a-498e-9894-72e305b67f56",
   "metadata": {},
   "source": [
    "### 1.2- Iterando sobre os meses para baixar as imagens"
   ]
  },
  {
   "cell_type": "code",
   "execution_count": 3,
   "id": "84411af3-4c51-4033-a8f1-9dbf62a134ea",
   "metadata": {},
   "outputs": [
    {
     "name": "stderr",
     "output_type": "stream",
     "text": [
      "C:\\Users\\thales\\AppData\\Local\\Temp\\ipykernel_26544\\1459149860.py:1: DeprecationWarning: find_element_by_xpath is deprecated. Please use find_element(by=By.XPATH, value=xpath) instead\n",
      "  campo_mensal = navegador.find_element_by_xpath('/html/body/div[2]/div/div[2]/div[4]/form[1]/select[1]/option[2]')\n",
      "C:\\Users\\thales\\AppData\\Local\\Temp\\ipykernel_26544\\1459149860.py:7: DeprecationWarning: find_element_by_xpath is deprecated. Please use find_element(by=By.XPATH, value=xpath) instead\n",
      "  botao_mes = navegador.find_element_by_xpath(xpath)\n",
      "C:\\Users\\thales\\AppData\\Local\\Temp\\ipykernel_26544\\1459149860.py:9: DeprecationWarning: find_element_by_xpath is deprecated. Please use find_element(by=By.XPATH, value=xpath) instead\n",
      "  img = navegador.find_element_by_xpath('/html/body/div[2]/div/div[1]/div[3]/span/img')\n"
     ]
    }
   ],
   "source": [
    "campo_mensal = navegador.find_element_by_xpath('/html/body/div[2]/div/div[2]/div[4]/form[1]/select[1]/option[2]')\n",
    "campo_mensal.click()\n",
    "meses = ['1','2','3','4']\n",
    "for mes in meses:\n",
    "    sleep(3)\n",
    "    xpath = '/html/body/div[2]/div/div[2]/div[4]/form[1]/select[2]/option['+str(mes)+']'\n",
    "    botao_mes = navegador.find_element_by_xpath(xpath)\n",
    "    botao_mes.click()\n",
    "    img = navegador.find_element_by_xpath('/html/body/div[2]/div/div[1]/div[3]/span/img')\n",
    "    url = img.get_attribute('src')\n",
    "    urllib.request.urlretrieve(url, 'precip_mes'+str(mes)+'.png')\n"
   ]
  },
  {
   "cell_type": "markdown",
   "id": "6d58decf-9b69-4260-8e47-76b06f80b855",
   "metadata": {},
   "source": [
    "# Exercício 2"
   ]
  },
  {
   "cell_type": "code",
   "execution_count": 4,
   "id": "5d988499-d30a-4945-b688-9eaf0deec3b7",
   "metadata": {},
   "outputs": [],
   "source": [
    "import requests\n",
    "from bs4 import BeautifulSoup\n",
    "from selenium import webdriver\n",
    "from selenium.webdriver.edge.options import Options\n",
    "from time import sleep\n",
    "import urllib\n",
    "from zipfile import ZipFile\n",
    "import os"
   ]
  },
  {
   "cell_type": "markdown",
   "id": "47fb2a75-ca33-4757-9f5a-81775dfdd6c1",
   "metadata": {},
   "source": [
    "### 2.1 - Abrindo a página"
   ]
  },
  {
   "cell_type": "code",
   "execution_count": 5,
   "id": "deab5c50-f993-4a28-b66c-fcb365272d77",
   "metadata": {},
   "outputs": [],
   "source": [
    "options = Options()\n",
    "options.add_argument('--headless') #pra não mostrar o navegador\n",
    "#options.add_argument('window-size=1500,1000')\n",
    "\n",
    "navegador = webdriver.Edge(options=options)\n",
    "navegador.get('https://www.ccee.org.br/en/web/guest/acervo-ccee')\n",
    "sleep(3)"
   ]
  },
  {
   "cell_type": "markdown",
   "id": "3b4cb40d-0a86-45ac-9e93-7ff8bc51a32b",
   "metadata": {},
   "source": [
    "### 2.2 - Selecionando e baixando o modelo desejado"
   ]
  },
  {
   "cell_type": "code",
   "execution_count": 6,
   "id": "6682fa8a-d0f0-4a05-8248-8ca3f1c6886f",
   "metadata": {},
   "outputs": [
    {
     "name": "stderr",
     "output_type": "stream",
     "text": [
      "C:\\Users\\thales\\AppData\\Local\\Temp\\ipykernel_26544\\3884128383.py:1: DeprecationWarning: find_element_by_xpath is deprecated. Please use find_element(by=By.XPATH, value=xpath) instead\n",
      "  aba_procurar = navegador.find_element_by_xpath('/html/body/div[1]/div[2]/section[1]/div/div[3]/div/div/div/section/div/div[2]/div/div[1]/div[1]/div[1]/div/input')\n",
      "C:\\Users\\thales\\AppData\\Local\\Temp\\ipykernel_26544\\3884128383.py:5: DeprecationWarning: find_element_by_xpath is deprecated. Please use find_element(by=By.XPATH, value=xpath) instead\n",
      "  botao_procurar = navegador.find_element_by_xpath('/html/body/div[1]/div[2]/section[1]/div/div[3]/div/div/div/section/div/div[2]/div/div[1]/div[1]/div[1]/div/span')\n",
      "C:\\Users\\thales\\AppData\\Local\\Temp\\ipykernel_26544\\3884128383.py:9: DeprecationWarning: find_element_by_xpath is deprecated. Please use find_element(by=By.XPATH, value=xpath) instead\n",
      "  botao_download = navegador.find_element_by_xpath('/html/body/div[1]/div[2]/section[1]/div/div[3]/div/div/div/section/div/div[2]/div/div[1]/div[2]/div[2]/div[2]/div/div/div[3]/a')\n"
     ]
    },
    {
     "data": {
      "text/plain": [
       "('DECOMP_04_2022.zip', <http.client.HTTPMessage at 0x1a84990c040>)"
      ]
     },
     "execution_count": 6,
     "metadata": {},
     "output_type": "execute_result"
    }
   ],
   "source": [
    "aba_procurar = navegador.find_element_by_xpath('/html/body/div[1]/div[2]/section[1]/div/div[3]/div/div/div/section/div/div[2]/div/div[1]/div[1]/div[1]/div/input')\n",
    "aba_procurar.click()  \n",
    "aba_procurar.send_keys('DECOMP 04/2022')\n",
    "\n",
    "botao_procurar = navegador.find_element_by_xpath('/html/body/div[1]/div[2]/section[1]/div/div[3]/div/div/div/section/div/div[2]/div/div[1]/div[1]/div[1]/div/span')\n",
    "botao_procurar.click() \n",
    "sleep(3)\n",
    "\n",
    "botao_download = navegador.find_element_by_xpath('/html/body/div[1]/div[2]/section[1]/div/div[3]/div/div/div/section/div/div[2]/div/div[1]/div[2]/div[2]/div[2]/div/div/div[3]/a')\n",
    "url = botao_download.get_attribute('href')\n",
    "urllib.request.urlretrieve(url, 'DECOMP_04_2022.zip')"
   ]
  },
  {
   "cell_type": "markdown",
   "id": "dbec43a9-06fd-4b13-ac64-0f3b15a65166",
   "metadata": {},
   "source": [
    "### 2.3 - Extraindo os arquivos baixados"
   ]
  },
  {
   "cell_type": "code",
   "execution_count": 7,
   "id": "fdf8e5fc-3ef2-4832-be15-57e1f147837b",
   "metadata": {},
   "outputs": [],
   "source": [
    "if os.path.isdir('DECOMP_04_2022'):\n",
    "   pass \n",
    "else:\n",
    "    os.mkdir('DECOMP_04_2022')\n",
    "\n",
    "zip = ZipFile('DECOMP_04_2022.zip')\n",
    "zip.extractall('DECOMP_04_2022')\n",
    "\n",
    "import glob, os\n",
    "path = os.getcwd()+'\\\\DECOMP_04_2022'\n",
    "os.chdir(path)\n",
    "for file in glob.glob(\"*.zip\"):\n",
    "    zip = ZipFile(file)\n",
    "    zip.extractall()\n",
    "os.chdir('..')"
   ]
  }
 ],
 "metadata": {
  "kernelspec": {
   "display_name": "Python 3 (ipykernel)",
   "language": "python",
   "name": "python3"
  },
  "language_info": {
   "codemirror_mode": {
    "name": "ipython",
    "version": 3
   },
   "file_extension": ".py",
   "mimetype": "text/x-python",
   "name": "python",
   "nbconvert_exporter": "python",
   "pygments_lexer": "ipython3",
   "version": "3.8.10"
  }
 },
 "nbformat": 4,
 "nbformat_minor": 5
}
