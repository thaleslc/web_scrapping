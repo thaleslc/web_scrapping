{
 "cells": [
  {
   "cell_type": "markdown",
   "id": "501a6122-0b1c-4778-b56b-6eeed65ea605",
   "metadata": {},
   "source": [
    "# Exercício 2"
   ]
  },
  {
   "cell_type": "code",
   "execution_count": 2,
   "id": "972159a5-572d-4195-8fb1-cca926bce72d",
   "metadata": {},
   "outputs": [],
   "source": [
    "import requests\n",
    "from bs4 import BeautifulSoup\n",
    "from selenium import webdriver\n",
    "from selenium.webdriver.edge.options import Options\n",
    "from time import sleep\n",
    "import urllib\n",
    "from zipfile import ZipFile\n",
    "import os"
   ]
  },
  {
   "cell_type": "markdown",
   "id": "6724ff9d-92bb-41fe-81da-fa3e7f544d89",
   "metadata": {},
   "source": [
    "### 1 - Abrindo a página"
   ]
  },
  {
   "cell_type": "code",
   "execution_count": 2,
   "id": "7959b188-6411-480c-972c-3087e02297a3",
   "metadata": {},
   "outputs": [],
   "source": [
    "options = Options()\n",
    "options.add_argument('--headless') #pra não mostrar o navegador\n",
    "#options.add_argument('window-size=1500,1000')\n",
    "\n",
    "navegador = webdriver.Edge(options=options)\n",
    "navegador.get('https://www.ccee.org.br/en/web/guest/acervo-ccee')\n",
    "sleep(3)"
   ]
  },
  {
   "cell_type": "markdown",
   "id": "f8ab9bb6-c280-4bf0-8c9b-355f4649c54e",
   "metadata": {},
   "source": [
    "### 2 - Selecionando e baixando o modelo desejado"
   ]
  },
  {
   "cell_type": "code",
   "execution_count": 3,
   "id": "4abe07c2-2a60-4fb3-b2f5-7213edb99399",
   "metadata": {},
   "outputs": [
    {
     "name": "stderr",
     "output_type": "stream",
     "text": [
      "C:\\Users\\thales\\AppData\\Local\\Temp\\ipykernel_14760\\3884128383.py:1: DeprecationWarning: find_element_by_xpath is deprecated. Please use find_element(by=By.XPATH, value=xpath) instead\n",
      "  aba_procurar = navegador.find_element_by_xpath('/html/body/div[1]/div[2]/section[1]/div/div[3]/div/div/div/section/div/div[2]/div/div[1]/div[1]/div[1]/div/input')\n",
      "C:\\Users\\thales\\AppData\\Local\\Temp\\ipykernel_14760\\3884128383.py:5: DeprecationWarning: find_element_by_xpath is deprecated. Please use find_element(by=By.XPATH, value=xpath) instead\n",
      "  botao_procurar = navegador.find_element_by_xpath('/html/body/div[1]/div[2]/section[1]/div/div[3]/div/div/div/section/div/div[2]/div/div[1]/div[1]/div[1]/div/span')\n",
      "C:\\Users\\thales\\AppData\\Local\\Temp\\ipykernel_14760\\3884128383.py:9: DeprecationWarning: find_element_by_xpath is deprecated. Please use find_element(by=By.XPATH, value=xpath) instead\n",
      "  botao_download = navegador.find_element_by_xpath('/html/body/div[1]/div[2]/section[1]/div/div[3]/div/div/div/section/div/div[2]/div/div[1]/div[2]/div[2]/div[2]/div/div/div[3]/a')\n"
     ]
    },
    {
     "data": {
      "text/plain": [
       "('DECOMP_04_2022.zip', <http.client.HTTPMessage at 0x1be27c87160>)"
      ]
     },
     "execution_count": 3,
     "metadata": {},
     "output_type": "execute_result"
    }
   ],
   "source": [
    "aba_procurar = navegador.find_element_by_xpath('/html/body/div[1]/div[2]/section[1]/div/div[3]/div/div/div/section/div/div[2]/div/div[1]/div[1]/div[1]/div/input')\n",
    "aba_procurar.click()  \n",
    "aba_procurar.send_keys('DECOMP 04/2022')\n",
    "\n",
    "botao_procurar = navegador.find_element_by_xpath('/html/body/div[1]/div[2]/section[1]/div/div[3]/div/div/div/section/div/div[2]/div/div[1]/div[1]/div[1]/div/span')\n",
    "botao_procurar.click() \n",
    "sleep(3)\n",
    "\n",
    "botao_download = navegador.find_element_by_xpath('/html/body/div[1]/div[2]/section[1]/div/div[3]/div/div/div/section/div/div[2]/div/div[1]/div[2]/div[2]/div[2]/div/div/div[3]/a')\n",
    "url = botao_download.get_attribute('href')\n",
    "urllib.request.urlretrieve(url, 'DECOMP_04_2022.zip')"
   ]
  },
  {
   "cell_type": "markdown",
   "id": "3a6031c8-cbba-45dd-95c2-89d2fe0e0629",
   "metadata": {},
   "source": [
    "### 3 - Extraindo os arquivos baixados"
   ]
  },
  {
   "cell_type": "code",
   "execution_count": 3,
   "id": "5504613f-240d-4588-b0cd-c3bda6db6ec5",
   "metadata": {},
   "outputs": [],
   "source": [
    "if os.path.isdir('DECOMP_04_2022'):\n",
    "   pass \n",
    "else:\n",
    "    os.mkdir('DECOMP_04_2022')\n",
    "\n",
    "zip = ZipFile('DECOMP_04_2022.zip')\n",
    "zip.extractall('DECOMP_04_2022')\n",
    "\n",
    "import glob, os\n",
    "path = os.getcwd()+'\\\\DECOMP_04_2022'\n",
    "os.chdir(path)\n",
    "for file in glob.glob(\"*.zip\"):\n",
    "    zip = ZipFile(file)\n",
    "    zip.extractall()\n",
    "os.chdir('..')"
   ]
  },
  {
   "cell_type": "code",
   "execution_count": null,
   "id": "6f03b97c-003a-445c-80bf-fc59e113502c",
   "metadata": {},
   "outputs": [],
   "source": []
  }
 ],
 "metadata": {
  "kernelspec": {
   "display_name": "Python 3 (ipykernel)",
   "language": "python",
   "name": "python3"
  },
  "language_info": {
   "codemirror_mode": {
    "name": "ipython",
    "version": 3
   },
   "file_extension": ".py",
   "mimetype": "text/x-python",
   "name": "python",
   "nbconvert_exporter": "python",
   "pygments_lexer": "ipython3",
   "version": "3.8.10"
  }
 },
 "nbformat": 4,
 "nbformat_minor": 5
}
